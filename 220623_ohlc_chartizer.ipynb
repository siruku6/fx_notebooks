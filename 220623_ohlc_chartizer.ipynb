{
  "nbformat": 4,
  "nbformat_minor": 0,
  "metadata": {
    "colab": {
      "name": "220623_ohlc_chartizer.ipynb",
      "provenance": [],
      "collapsed_sections": [
        "lHqd4ve9vgp7",
        "UVhROyCNr8Bz",
        "O8QVytEJxtxD"
      ],
      "authorship_tag": "ABX9TyOKTxs8jt7oN4rUSGLbsu+2",
      "include_colab_link": true
    },
    "kernelspec": {
      "name": "python3",
      "display_name": "Python 3"
    },
    "language_info": {
      "name": "python"
    }
  },
  "cells": [
    {
      "cell_type": "markdown",
      "metadata": {
        "id": "view-in-github",
        "colab_type": "text"
      },
      "source": [
        "<a href=\"https://colab.research.google.com/github/siruku6/fx_notebooks/blob/master/220623_ohlc_chartizer.ipynb\" target=\"_parent\"><img src=\"https://colab.research.google.com/assets/colab-badge.svg\" alt=\"Open In Colab\"/></a>"
      ]
    },
    {
      "cell_type": "markdown",
      "source": [
        "# 1. モジュールの準備"
      ],
      "metadata": {
        "id": "5vVflq6TrvbI"
      }
    },
    {
      "cell_type": "code",
      "execution_count": 1,
      "metadata": {
        "id": "m1u2jAIS1aYT",
        "colab": {
          "base_uri": "https://localhost:8080/"
        },
        "outputId": "4d8294cd-2210-4159-f4c1-37ed753038cd"
      },
      "outputs": [
        {
          "output_type": "stream",
          "name": "stdout",
          "text": [
            "\u001b[?25l\r\u001b[K     |████▋                           | 10 kB 30.6 MB/s eta 0:00:01\r\u001b[K     |█████████▎                      | 20 kB 34.5 MB/s eta 0:00:01\r\u001b[K     |█████████████▉                  | 30 kB 14.4 MB/s eta 0:00:01\r\u001b[K     |██████████████████▌             | 40 kB 6.1 MB/s eta 0:00:01\r\u001b[K     |███████████████████████         | 51 kB 5.6 MB/s eta 0:00:01\r\u001b[K     |███████████████████████████▊    | 61 kB 6.7 MB/s eta 0:00:01\r\u001b[K     |████████████████████████████████| 70 kB 4.7 MB/s \n",
            "\u001b[?25h"
          ]
        }
      ],
      "source": [
        "!pip install -q mplfinance"
      ]
    },
    {
      "cell_type": "code",
      "source": [
        "import os\n",
        "\n",
        "from google.colab import files\n",
        "import matplotlib\n",
        "import matplotlib.pyplot as plt\n",
        "import mplfinance.original_flavor as original_mpf\n",
        "import mplfinance as mpf\n",
        "import numpy as np\n",
        "import pandas as pd\n",
        "from tqdm import tqdm\n",
        "\n",
        "# matplotlib.use('Agg')\n"
      ],
      "metadata": {
        "id": "2gmLLiA41gFD"
      },
      "execution_count": 2,
      "outputs": []
    },
    {
      "cell_type": "markdown",
      "source": [
        "# 2. データ読み込みと確認"
      ],
      "metadata": {
        "id": "KAiNLzi-r3Tl"
      }
    },
    {
      "cell_type": "code",
      "source": [
        "# Upload `220620_GBP_JPY_H1.csv`\n",
        "uploaded = files.upload()"
      ],
      "metadata": {
        "colab": {
          "resources": {
            "http://localhost:8080/nbextensions/google.colab/files.js": {
              "data": "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",
              "ok": true,
              "headers": [
                [
                  "content-type",
                  "application/javascript"
                ]
              ],
              "status": 200,
              "status_text": ""
            }
          },
          "base_uri": "https://localhost:8080/",
          "height": 78
        },
        "id": "I0jdyQI3xURn",
        "outputId": "3dedc67a-4079-4d29-8aeb-f9e1bd6981b4"
      },
      "execution_count": 3,
      "outputs": [
        {
          "output_type": "display_data",
          "data": {
            "text/plain": [
              "<IPython.core.display.HTML object>"
            ],
            "text/html": [
              "\n",
              "     <input type=\"file\" id=\"files-4d76f0d3-6344-48d2-b40a-3fdcd678edd3\" name=\"files[]\" multiple disabled\n",
              "        style=\"border:none\" />\n",
              "     <output id=\"result-4d76f0d3-6344-48d2-b40a-3fdcd678edd3\">\n",
              "      Upload widget is only available when the cell has been executed in the\n",
              "      current browser session. Please rerun this cell to enable.\n",
              "      </output>\n",
              "      <script src=\"/nbextensions/google.colab/files.js\"></script> "
            ]
          },
          "metadata": {}
        },
        {
          "output_type": "stream",
          "name": "stdout",
          "text": [
            "Saving 220620_GBP_JPY_H1.csv to 220620_GBP_JPY_H1.csv\n"
          ]
        }
      ]
    },
    {
      "cell_type": "code",
      "source": [
        "df_candles: pd.DataFrame = pd.read_csv('/content/220620_GBP_JPY_H1.csv', parse_dates=['time'])\n",
        "df_candles.head(3)"
      ],
      "metadata": {
        "id": "e1XL7Miu1pA3",
        "colab": {
          "base_uri": "https://localhost:8080/",
          "height": 143
        },
        "outputId": "320d6a01-33db-4f77-c1e5-f75570c722dd"
      },
      "execution_count": 11,
      "outputs": [
        {
          "output_type": "execute_result",
          "data": {
            "text/plain": [
              "       low     open     high    close                time\n",
              "0  156.053  156.087  156.193  156.136 2021-10-31 21:00:00\n",
              "1  156.088  156.117  156.240  156.226 2021-10-31 22:00:00\n",
              "2  156.118  156.224  156.334  156.311 2021-10-31 23:00:00"
            ],
            "text/html": [
              "\n",
              "  <div id=\"df-3032a1f3-367b-4f6a-953f-610c856e4076\">\n",
              "    <div class=\"colab-df-container\">\n",
              "      <div>\n",
              "<style scoped>\n",
              "    .dataframe tbody tr th:only-of-type {\n",
              "        vertical-align: middle;\n",
              "    }\n",
              "\n",
              "    .dataframe tbody tr th {\n",
              "        vertical-align: top;\n",
              "    }\n",
              "\n",
              "    .dataframe thead th {\n",
              "        text-align: right;\n",
              "    }\n",
              "</style>\n",
              "<table border=\"1\" class=\"dataframe\">\n",
              "  <thead>\n",
              "    <tr style=\"text-align: right;\">\n",
              "      <th></th>\n",
              "      <th>low</th>\n",
              "      <th>open</th>\n",
              "      <th>high</th>\n",
              "      <th>close</th>\n",
              "      <th>time</th>\n",
              "    </tr>\n",
              "  </thead>\n",
              "  <tbody>\n",
              "    <tr>\n",
              "      <th>0</th>\n",
              "      <td>156.053</td>\n",
              "      <td>156.087</td>\n",
              "      <td>156.193</td>\n",
              "      <td>156.136</td>\n",
              "      <td>2021-10-31 21:00:00</td>\n",
              "    </tr>\n",
              "    <tr>\n",
              "      <th>1</th>\n",
              "      <td>156.088</td>\n",
              "      <td>156.117</td>\n",
              "      <td>156.240</td>\n",
              "      <td>156.226</td>\n",
              "      <td>2021-10-31 22:00:00</td>\n",
              "    </tr>\n",
              "    <tr>\n",
              "      <th>2</th>\n",
              "      <td>156.118</td>\n",
              "      <td>156.224</td>\n",
              "      <td>156.334</td>\n",
              "      <td>156.311</td>\n",
              "      <td>2021-10-31 23:00:00</td>\n",
              "    </tr>\n",
              "  </tbody>\n",
              "</table>\n",
              "</div>\n",
              "      <button class=\"colab-df-convert\" onclick=\"convertToInteractive('df-3032a1f3-367b-4f6a-953f-610c856e4076')\"\n",
              "              title=\"Convert this dataframe to an interactive table.\"\n",
              "              style=\"display:none;\">\n",
              "        \n",
              "  <svg xmlns=\"http://www.w3.org/2000/svg\" height=\"24px\"viewBox=\"0 0 24 24\"\n",
              "       width=\"24px\">\n",
              "    <path d=\"M0 0h24v24H0V0z\" fill=\"none\"/>\n",
              "    <path d=\"M18.56 5.44l.94 2.06.94-2.06 2.06-.94-2.06-.94-.94-2.06-.94 2.06-2.06.94zm-11 1L8.5 8.5l.94-2.06 2.06-.94-2.06-.94L8.5 2.5l-.94 2.06-2.06.94zm10 10l.94 2.06.94-2.06 2.06-.94-2.06-.94-.94-2.06-.94 2.06-2.06.94z\"/><path d=\"M17.41 7.96l-1.37-1.37c-.4-.4-.92-.59-1.43-.59-.52 0-1.04.2-1.43.59L10.3 9.45l-7.72 7.72c-.78.78-.78 2.05 0 2.83L4 21.41c.39.39.9.59 1.41.59.51 0 1.02-.2 1.41-.59l7.78-7.78 2.81-2.81c.8-.78.8-2.07 0-2.86zM5.41 20L4 18.59l7.72-7.72 1.47 1.35L5.41 20z\"/>\n",
              "  </svg>\n",
              "      </button>\n",
              "      \n",
              "  <style>\n",
              "    .colab-df-container {\n",
              "      display:flex;\n",
              "      flex-wrap:wrap;\n",
              "      gap: 12px;\n",
              "    }\n",
              "\n",
              "    .colab-df-convert {\n",
              "      background-color: #E8F0FE;\n",
              "      border: none;\n",
              "      border-radius: 50%;\n",
              "      cursor: pointer;\n",
              "      display: none;\n",
              "      fill: #1967D2;\n",
              "      height: 32px;\n",
              "      padding: 0 0 0 0;\n",
              "      width: 32px;\n",
              "    }\n",
              "\n",
              "    .colab-df-convert:hover {\n",
              "      background-color: #E2EBFA;\n",
              "      box-shadow: 0px 1px 2px rgba(60, 64, 67, 0.3), 0px 1px 3px 1px rgba(60, 64, 67, 0.15);\n",
              "      fill: #174EA6;\n",
              "    }\n",
              "\n",
              "    [theme=dark] .colab-df-convert {\n",
              "      background-color: #3B4455;\n",
              "      fill: #D2E3FC;\n",
              "    }\n",
              "\n",
              "    [theme=dark] .colab-df-convert:hover {\n",
              "      background-color: #434B5C;\n",
              "      box-shadow: 0px 1px 3px 1px rgba(0, 0, 0, 0.15);\n",
              "      filter: drop-shadow(0px 1px 2px rgba(0, 0, 0, 0.3));\n",
              "      fill: #FFFFFF;\n",
              "    }\n",
              "  </style>\n",
              "\n",
              "      <script>\n",
              "        const buttonEl =\n",
              "          document.querySelector('#df-3032a1f3-367b-4f6a-953f-610c856e4076 button.colab-df-convert');\n",
              "        buttonEl.style.display =\n",
              "          google.colab.kernel.accessAllowed ? 'block' : 'none';\n",
              "\n",
              "        async function convertToInteractive(key) {\n",
              "          const element = document.querySelector('#df-3032a1f3-367b-4f6a-953f-610c856e4076');\n",
              "          const dataTable =\n",
              "            await google.colab.kernel.invokeFunction('convertToInteractive',\n",
              "                                                     [key], {});\n",
              "          if (!dataTable) return;\n",
              "\n",
              "          const docLinkHtml = 'Like what you see? Visit the ' +\n",
              "            '<a target=\"_blank\" href=https://colab.research.google.com/notebooks/data_table.ipynb>data table notebook</a>'\n",
              "            + ' to learn more about interactive tables.';\n",
              "          element.innerHTML = '';\n",
              "          dataTable['output_type'] = 'display_data';\n",
              "          await google.colab.output.renderOutput(dataTable, element);\n",
              "          const docLink = document.createElement('div');\n",
              "          docLink.innerHTML = docLinkHtml;\n",
              "          element.appendChild(docLink);\n",
              "        }\n",
              "      </script>\n",
              "    </div>\n",
              "  </div>\n",
              "  "
            ]
          },
          "metadata": {},
          "execution_count": 11
        }
      ]
    },
    {
      "cell_type": "code",
      "source": [
        "print(df_candles.dtypes)\n",
        "df_candles.info()"
      ],
      "metadata": {
        "colab": {
          "base_uri": "https://localhost:8080/"
        },
        "id": "HX-nmEytnhso",
        "outputId": "7199224e-495b-4132-85c1-5028e8f666dc"
      },
      "execution_count": 12,
      "outputs": [
        {
          "output_type": "stream",
          "name": "stdout",
          "text": [
            "low             float64\n",
            "open            float64\n",
            "high            float64\n",
            "close           float64\n",
            "time     datetime64[ns]\n",
            "dtype: object\n",
            "<class 'pandas.core.frame.DataFrame'>\n",
            "RangeIndex: 3863 entries, 0 to 3862\n",
            "Data columns (total 5 columns):\n",
            " #   Column  Non-Null Count  Dtype         \n",
            "---  ------  --------------  -----         \n",
            " 0   low     3863 non-null   float64       \n",
            " 1   open    3863 non-null   float64       \n",
            " 2   high    3863 non-null   float64       \n",
            " 3   close   3863 non-null   float64       \n",
            " 4   time    3863 non-null   datetime64[ns]\n",
            "dtypes: datetime64[ns](1), float64(4)\n",
            "memory usage: 151.0 KB\n"
          ]
        }
      ]
    },
    {
      "cell_type": "markdown",
      "source": [
        "# 3. 学習データ作り"
      ],
      "metadata": {
        "id": "tYd8AHWcr-gS"
      }
    },
    {
      "cell_type": "markdown",
      "source": [
        "## 3-1. 正解ラベル作り\n",
        "\n",
        "正解ラベル（目的変数）を作る\n",
        "\n",
        "https://github.com/rosdyana/Going-Deeper-with-Convolutional-Neural-Network-for-Stock-Market-Prediction/blob/a59152477f46e673a244c0f9b5340c272504024a/preproccess_binclass.py#L105"
      ],
      "metadata": {
        "id": "fB0Ol5-XUU3Q"
      }
    },
    {
      "cell_type": "markdown",
      "source": [
        "正解ラベルの列 `target` を追加する\n",
        "\n",
        "- target: int (-1, 0, 1のいずれか)  \n",
        "画像内の最終足の`close`の値（終値）よりも、5本先の `close`の値が、\n",
        "\n",
        "|No|内容|Label|\n",
        "|:-|:---|----:|\n",
        "|1|`0.3`以上上回っている| 1|\n",
        "|2|`0.3`以上下回っている| 2|\n",
        "|3|どちらでもない| 0|\n"
      ],
      "metadata": {
        "id": "MCtD4h9uUc8j"
      }
    },
    {
      "cell_type": "code",
      "source": [
        "# 5本先の足のclose値を列に追加\n",
        "df_tmp_candles = df_candles.copy()\n",
        "df_tmp_candles.loc[:, 'close:lag+5'] = df_tmp_candles['close'].shift(-5)\n",
        "df_tmp_candles.head(8)"
      ],
      "metadata": {
        "colab": {
          "base_uri": "https://localhost:8080/",
          "height": 300
        },
        "id": "aYgDQ5i5UbjZ",
        "outputId": "2a20b550-d6a7-4a5b-d5f8-1f6f174675fe"
      },
      "execution_count": 13,
      "outputs": [
        {
          "output_type": "execute_result",
          "data": {
            "text/plain": [
              "       low     open     high    close                time  close:lag+5\n",
              "0  156.053  156.087  156.193  156.136 2021-10-31 21:00:00      156.134\n",
              "1  156.088  156.117  156.240  156.226 2021-10-31 22:00:00      156.225\n",
              "2  156.118  156.224  156.334  156.311 2021-10-31 23:00:00      156.238\n",
              "3  155.922  156.314  156.338  155.992 2021-11-01 00:00:00      156.351\n",
              "4  155.952  155.990  156.204  156.185 2021-11-01 01:00:00      156.274\n",
              "5  156.042  156.183  156.183  156.134 2021-11-01 02:00:00      156.197\n",
              "6  156.129  156.136  156.298  156.225 2021-11-01 03:00:00      156.016\n",
              "7  156.204  156.222  156.322  156.238 2021-11-01 04:00:00      156.024"
            ],
            "text/html": [
              "\n",
              "  <div id=\"df-a6bf6943-f302-403e-9527-c327a3b8d241\">\n",
              "    <div class=\"colab-df-container\">\n",
              "      <div>\n",
              "<style scoped>\n",
              "    .dataframe tbody tr th:only-of-type {\n",
              "        vertical-align: middle;\n",
              "    }\n",
              "\n",
              "    .dataframe tbody tr th {\n",
              "        vertical-align: top;\n",
              "    }\n",
              "\n",
              "    .dataframe thead th {\n",
              "        text-align: right;\n",
              "    }\n",
              "</style>\n",
              "<table border=\"1\" class=\"dataframe\">\n",
              "  <thead>\n",
              "    <tr style=\"text-align: right;\">\n",
              "      <th></th>\n",
              "      <th>low</th>\n",
              "      <th>open</th>\n",
              "      <th>high</th>\n",
              "      <th>close</th>\n",
              "      <th>time</th>\n",
              "      <th>close:lag+5</th>\n",
              "    </tr>\n",
              "  </thead>\n",
              "  <tbody>\n",
              "    <tr>\n",
              "      <th>0</th>\n",
              "      <td>156.053</td>\n",
              "      <td>156.087</td>\n",
              "      <td>156.193</td>\n",
              "      <td>156.136</td>\n",
              "      <td>2021-10-31 21:00:00</td>\n",
              "      <td>156.134</td>\n",
              "    </tr>\n",
              "    <tr>\n",
              "      <th>1</th>\n",
              "      <td>156.088</td>\n",
              "      <td>156.117</td>\n",
              "      <td>156.240</td>\n",
              "      <td>156.226</td>\n",
              "      <td>2021-10-31 22:00:00</td>\n",
              "      <td>156.225</td>\n",
              "    </tr>\n",
              "    <tr>\n",
              "      <th>2</th>\n",
              "      <td>156.118</td>\n",
              "      <td>156.224</td>\n",
              "      <td>156.334</td>\n",
              "      <td>156.311</td>\n",
              "      <td>2021-10-31 23:00:00</td>\n",
              "      <td>156.238</td>\n",
              "    </tr>\n",
              "    <tr>\n",
              "      <th>3</th>\n",
              "      <td>155.922</td>\n",
              "      <td>156.314</td>\n",
              "      <td>156.338</td>\n",
              "      <td>155.992</td>\n",
              "      <td>2021-11-01 00:00:00</td>\n",
              "      <td>156.351</td>\n",
              "    </tr>\n",
              "    <tr>\n",
              "      <th>4</th>\n",
              "      <td>155.952</td>\n",
              "      <td>155.990</td>\n",
              "      <td>156.204</td>\n",
              "      <td>156.185</td>\n",
              "      <td>2021-11-01 01:00:00</td>\n",
              "      <td>156.274</td>\n",
              "    </tr>\n",
              "    <tr>\n",
              "      <th>5</th>\n",
              "      <td>156.042</td>\n",
              "      <td>156.183</td>\n",
              "      <td>156.183</td>\n",
              "      <td>156.134</td>\n",
              "      <td>2021-11-01 02:00:00</td>\n",
              "      <td>156.197</td>\n",
              "    </tr>\n",
              "    <tr>\n",
              "      <th>6</th>\n",
              "      <td>156.129</td>\n",
              "      <td>156.136</td>\n",
              "      <td>156.298</td>\n",
              "      <td>156.225</td>\n",
              "      <td>2021-11-01 03:00:00</td>\n",
              "      <td>156.016</td>\n",
              "    </tr>\n",
              "    <tr>\n",
              "      <th>7</th>\n",
              "      <td>156.204</td>\n",
              "      <td>156.222</td>\n",
              "      <td>156.322</td>\n",
              "      <td>156.238</td>\n",
              "      <td>2021-11-01 04:00:00</td>\n",
              "      <td>156.024</td>\n",
              "    </tr>\n",
              "  </tbody>\n",
              "</table>\n",
              "</div>\n",
              "      <button class=\"colab-df-convert\" onclick=\"convertToInteractive('df-a6bf6943-f302-403e-9527-c327a3b8d241')\"\n",
              "              title=\"Convert this dataframe to an interactive table.\"\n",
              "              style=\"display:none;\">\n",
              "        \n",
              "  <svg xmlns=\"http://www.w3.org/2000/svg\" height=\"24px\"viewBox=\"0 0 24 24\"\n",
              "       width=\"24px\">\n",
              "    <path d=\"M0 0h24v24H0V0z\" fill=\"none\"/>\n",
              "    <path d=\"M18.56 5.44l.94 2.06.94-2.06 2.06-.94-2.06-.94-.94-2.06-.94 2.06-2.06.94zm-11 1L8.5 8.5l.94-2.06 2.06-.94-2.06-.94L8.5 2.5l-.94 2.06-2.06.94zm10 10l.94 2.06.94-2.06 2.06-.94-2.06-.94-.94-2.06-.94 2.06-2.06.94z\"/><path d=\"M17.41 7.96l-1.37-1.37c-.4-.4-.92-.59-1.43-.59-.52 0-1.04.2-1.43.59L10.3 9.45l-7.72 7.72c-.78.78-.78 2.05 0 2.83L4 21.41c.39.39.9.59 1.41.59.51 0 1.02-.2 1.41-.59l7.78-7.78 2.81-2.81c.8-.78.8-2.07 0-2.86zM5.41 20L4 18.59l7.72-7.72 1.47 1.35L5.41 20z\"/>\n",
              "  </svg>\n",
              "      </button>\n",
              "      \n",
              "  <style>\n",
              "    .colab-df-container {\n",
              "      display:flex;\n",
              "      flex-wrap:wrap;\n",
              "      gap: 12px;\n",
              "    }\n",
              "\n",
              "    .colab-df-convert {\n",
              "      background-color: #E8F0FE;\n",
              "      border: none;\n",
              "      border-radius: 50%;\n",
              "      cursor: pointer;\n",
              "      display: none;\n",
              "      fill: #1967D2;\n",
              "      height: 32px;\n",
              "      padding: 0 0 0 0;\n",
              "      width: 32px;\n",
              "    }\n",
              "\n",
              "    .colab-df-convert:hover {\n",
              "      background-color: #E2EBFA;\n",
              "      box-shadow: 0px 1px 2px rgba(60, 64, 67, 0.3), 0px 1px 3px 1px rgba(60, 64, 67, 0.15);\n",
              "      fill: #174EA6;\n",
              "    }\n",
              "\n",
              "    [theme=dark] .colab-df-convert {\n",
              "      background-color: #3B4455;\n",
              "      fill: #D2E3FC;\n",
              "    }\n",
              "\n",
              "    [theme=dark] .colab-df-convert:hover {\n",
              "      background-color: #434B5C;\n",
              "      box-shadow: 0px 1px 3px 1px rgba(0, 0, 0, 0.15);\n",
              "      filter: drop-shadow(0px 1px 2px rgba(0, 0, 0, 0.3));\n",
              "      fill: #FFFFFF;\n",
              "    }\n",
              "  </style>\n",
              "\n",
              "      <script>\n",
              "        const buttonEl =\n",
              "          document.querySelector('#df-a6bf6943-f302-403e-9527-c327a3b8d241 button.colab-df-convert');\n",
              "        buttonEl.style.display =\n",
              "          google.colab.kernel.accessAllowed ? 'block' : 'none';\n",
              "\n",
              "        async function convertToInteractive(key) {\n",
              "          const element = document.querySelector('#df-a6bf6943-f302-403e-9527-c327a3b8d241');\n",
              "          const dataTable =\n",
              "            await google.colab.kernel.invokeFunction('convertToInteractive',\n",
              "                                                     [key], {});\n",
              "          if (!dataTable) return;\n",
              "\n",
              "          const docLinkHtml = 'Like what you see? Visit the ' +\n",
              "            '<a target=\"_blank\" href=https://colab.research.google.com/notebooks/data_table.ipynb>data table notebook</a>'\n",
              "            + ' to learn more about interactive tables.';\n",
              "          element.innerHTML = '';\n",
              "          dataTable['output_type'] = 'display_data';\n",
              "          await google.colab.output.renderOutput(dataTable, element);\n",
              "          const docLink = document.createElement('div');\n",
              "          docLink.innerHTML = docLinkHtml;\n",
              "          element.appendChild(docLink);\n",
              "        }\n",
              "      </script>\n",
              "    </div>\n",
              "  </div>\n",
              "  "
            ]
          },
          "metadata": {},
          "execution_count": 13
        }
      ]
    },
    {
      "cell_type": "code",
      "source": [
        "# 実装中\n",
        "# https://note.nkmk.me/python-pandas-where-mask/\n",
        "series_gap_between_5_candles = (df_tmp_candles['close:lag+5'] - df_tmp_candles['close'])\n",
        "\n",
        "threthold: float = 0.3\n",
        "up = np.where(series_gap_between_5_candles > threthold, True, False)\n",
        "down = np.where(series_gap_between_5_candles < -threthold, True, False)\n",
        "\n",
        "df_tmp_candles.loc[up, 'class'] = 1\n",
        "df_tmp_candles.loc[down, 'class'] = 2\n",
        "df_tmp_candles.loc[~(up | down), 'class'] = 0\n",
        "df_tmp_candles = df_tmp_candles.astype({'class': int})\n",
        "df_tmp_candles.head(20)"
      ],
      "metadata": {
        "id": "Mt9j0Rz26-3D",
        "colab": {
          "base_uri": "https://localhost:8080/",
          "height": 677
        },
        "outputId": "64746f73-835b-4434-e8ac-cb4b455f595f"
      },
      "execution_count": 14,
      "outputs": [
        {
          "output_type": "execute_result",
          "data": {
            "text/plain": [
              "        low     open     high    close                time  close:lag+5  class\n",
              "0   156.053  156.087  156.193  156.136 2021-10-31 21:00:00      156.134      0\n",
              "1   156.088  156.117  156.240  156.226 2021-10-31 22:00:00      156.225      0\n",
              "2   156.118  156.224  156.334  156.311 2021-10-31 23:00:00      156.238      0\n",
              "3   155.922  156.314  156.338  155.992 2021-11-01 00:00:00      156.351      1\n",
              "4   155.952  155.990  156.204  156.185 2021-11-01 01:00:00      156.274      0\n",
              "5   156.042  156.183  156.183  156.134 2021-11-01 02:00:00      156.197      0\n",
              "6   156.129  156.136  156.298  156.225 2021-11-01 03:00:00      156.016      0\n",
              "7   156.204  156.222  156.322  156.238 2021-11-01 04:00:00      156.024      0\n",
              "8   156.236  156.240  156.448  156.351 2021-11-01 05:00:00      155.991      2\n",
              "9   156.210  156.353  156.389  156.274 2021-11-01 06:00:00      156.235      0\n",
              "10  156.092  156.272  156.288  156.197 2021-11-01 07:00:00      156.260      0\n",
              "11  155.964  156.200  156.498  156.016 2021-11-01 08:00:00      156.138      0\n",
              "12  155.856  156.014  156.146  156.024 2021-11-01 09:00:00      156.228      0\n",
              "13  155.810  156.027  156.086  155.991 2021-11-01 10:00:00      156.204      0\n",
              "14  155.926  155.993  156.270  156.235 2021-11-01 11:00:00      155.972      0\n",
              "15  156.062  156.238  156.332  156.260 2021-11-01 12:00:00      155.841      2\n",
              "16  156.124  156.258  156.390  156.138 2021-11-01 13:00:00      155.680      2\n",
              "17  155.940  156.135  156.263  156.228 2021-11-01 14:00:00      155.784      2\n",
              "18  156.140  156.230  156.394  156.204 2021-11-01 15:00:00      155.765      2\n",
              "19  155.958  156.207  156.210  155.972 2021-11-01 16:00:00      155.795      0"
            ],
            "text/html": [
              "\n",
              "  <div id=\"df-edad0215-dc3a-41ee-85ae-e7b0d8144c3b\">\n",
              "    <div class=\"colab-df-container\">\n",
              "      <div>\n",
              "<style scoped>\n",
              "    .dataframe tbody tr th:only-of-type {\n",
              "        vertical-align: middle;\n",
              "    }\n",
              "\n",
              "    .dataframe tbody tr th {\n",
              "        vertical-align: top;\n",
              "    }\n",
              "\n",
              "    .dataframe thead th {\n",
              "        text-align: right;\n",
              "    }\n",
              "</style>\n",
              "<table border=\"1\" class=\"dataframe\">\n",
              "  <thead>\n",
              "    <tr style=\"text-align: right;\">\n",
              "      <th></th>\n",
              "      <th>low</th>\n",
              "      <th>open</th>\n",
              "      <th>high</th>\n",
              "      <th>close</th>\n",
              "      <th>time</th>\n",
              "      <th>close:lag+5</th>\n",
              "      <th>class</th>\n",
              "    </tr>\n",
              "  </thead>\n",
              "  <tbody>\n",
              "    <tr>\n",
              "      <th>0</th>\n",
              "      <td>156.053</td>\n",
              "      <td>156.087</td>\n",
              "      <td>156.193</td>\n",
              "      <td>156.136</td>\n",
              "      <td>2021-10-31 21:00:00</td>\n",
              "      <td>156.134</td>\n",
              "      <td>0</td>\n",
              "    </tr>\n",
              "    <tr>\n",
              "      <th>1</th>\n",
              "      <td>156.088</td>\n",
              "      <td>156.117</td>\n",
              "      <td>156.240</td>\n",
              "      <td>156.226</td>\n",
              "      <td>2021-10-31 22:00:00</td>\n",
              "      <td>156.225</td>\n",
              "      <td>0</td>\n",
              "    </tr>\n",
              "    <tr>\n",
              "      <th>2</th>\n",
              "      <td>156.118</td>\n",
              "      <td>156.224</td>\n",
              "      <td>156.334</td>\n",
              "      <td>156.311</td>\n",
              "      <td>2021-10-31 23:00:00</td>\n",
              "      <td>156.238</td>\n",
              "      <td>0</td>\n",
              "    </tr>\n",
              "    <tr>\n",
              "      <th>3</th>\n",
              "      <td>155.922</td>\n",
              "      <td>156.314</td>\n",
              "      <td>156.338</td>\n",
              "      <td>155.992</td>\n",
              "      <td>2021-11-01 00:00:00</td>\n",
              "      <td>156.351</td>\n",
              "      <td>1</td>\n",
              "    </tr>\n",
              "    <tr>\n",
              "      <th>4</th>\n",
              "      <td>155.952</td>\n",
              "      <td>155.990</td>\n",
              "      <td>156.204</td>\n",
              "      <td>156.185</td>\n",
              "      <td>2021-11-01 01:00:00</td>\n",
              "      <td>156.274</td>\n",
              "      <td>0</td>\n",
              "    </tr>\n",
              "    <tr>\n",
              "      <th>5</th>\n",
              "      <td>156.042</td>\n",
              "      <td>156.183</td>\n",
              "      <td>156.183</td>\n",
              "      <td>156.134</td>\n",
              "      <td>2021-11-01 02:00:00</td>\n",
              "      <td>156.197</td>\n",
              "      <td>0</td>\n",
              "    </tr>\n",
              "    <tr>\n",
              "      <th>6</th>\n",
              "      <td>156.129</td>\n",
              "      <td>156.136</td>\n",
              "      <td>156.298</td>\n",
              "      <td>156.225</td>\n",
              "      <td>2021-11-01 03:00:00</td>\n",
              "      <td>156.016</td>\n",
              "      <td>0</td>\n",
              "    </tr>\n",
              "    <tr>\n",
              "      <th>7</th>\n",
              "      <td>156.204</td>\n",
              "      <td>156.222</td>\n",
              "      <td>156.322</td>\n",
              "      <td>156.238</td>\n",
              "      <td>2021-11-01 04:00:00</td>\n",
              "      <td>156.024</td>\n",
              "      <td>0</td>\n",
              "    </tr>\n",
              "    <tr>\n",
              "      <th>8</th>\n",
              "      <td>156.236</td>\n",
              "      <td>156.240</td>\n",
              "      <td>156.448</td>\n",
              "      <td>156.351</td>\n",
              "      <td>2021-11-01 05:00:00</td>\n",
              "      <td>155.991</td>\n",
              "      <td>2</td>\n",
              "    </tr>\n",
              "    <tr>\n",
              "      <th>9</th>\n",
              "      <td>156.210</td>\n",
              "      <td>156.353</td>\n",
              "      <td>156.389</td>\n",
              "      <td>156.274</td>\n",
              "      <td>2021-11-01 06:00:00</td>\n",
              "      <td>156.235</td>\n",
              "      <td>0</td>\n",
              "    </tr>\n",
              "    <tr>\n",
              "      <th>10</th>\n",
              "      <td>156.092</td>\n",
              "      <td>156.272</td>\n",
              "      <td>156.288</td>\n",
              "      <td>156.197</td>\n",
              "      <td>2021-11-01 07:00:00</td>\n",
              "      <td>156.260</td>\n",
              "      <td>0</td>\n",
              "    </tr>\n",
              "    <tr>\n",
              "      <th>11</th>\n",
              "      <td>155.964</td>\n",
              "      <td>156.200</td>\n",
              "      <td>156.498</td>\n",
              "      <td>156.016</td>\n",
              "      <td>2021-11-01 08:00:00</td>\n",
              "      <td>156.138</td>\n",
              "      <td>0</td>\n",
              "    </tr>\n",
              "    <tr>\n",
              "      <th>12</th>\n",
              "      <td>155.856</td>\n",
              "      <td>156.014</td>\n",
              "      <td>156.146</td>\n",
              "      <td>156.024</td>\n",
              "      <td>2021-11-01 09:00:00</td>\n",
              "      <td>156.228</td>\n",
              "      <td>0</td>\n",
              "    </tr>\n",
              "    <tr>\n",
              "      <th>13</th>\n",
              "      <td>155.810</td>\n",
              "      <td>156.027</td>\n",
              "      <td>156.086</td>\n",
              "      <td>155.991</td>\n",
              "      <td>2021-11-01 10:00:00</td>\n",
              "      <td>156.204</td>\n",
              "      <td>0</td>\n",
              "    </tr>\n",
              "    <tr>\n",
              "      <th>14</th>\n",
              "      <td>155.926</td>\n",
              "      <td>155.993</td>\n",
              "      <td>156.270</td>\n",
              "      <td>156.235</td>\n",
              "      <td>2021-11-01 11:00:00</td>\n",
              "      <td>155.972</td>\n",
              "      <td>0</td>\n",
              "    </tr>\n",
              "    <tr>\n",
              "      <th>15</th>\n",
              "      <td>156.062</td>\n",
              "      <td>156.238</td>\n",
              "      <td>156.332</td>\n",
              "      <td>156.260</td>\n",
              "      <td>2021-11-01 12:00:00</td>\n",
              "      <td>155.841</td>\n",
              "      <td>2</td>\n",
              "    </tr>\n",
              "    <tr>\n",
              "      <th>16</th>\n",
              "      <td>156.124</td>\n",
              "      <td>156.258</td>\n",
              "      <td>156.390</td>\n",
              "      <td>156.138</td>\n",
              "      <td>2021-11-01 13:00:00</td>\n",
              "      <td>155.680</td>\n",
              "      <td>2</td>\n",
              "    </tr>\n",
              "    <tr>\n",
              "      <th>17</th>\n",
              "      <td>155.940</td>\n",
              "      <td>156.135</td>\n",
              "      <td>156.263</td>\n",
              "      <td>156.228</td>\n",
              "      <td>2021-11-01 14:00:00</td>\n",
              "      <td>155.784</td>\n",
              "      <td>2</td>\n",
              "    </tr>\n",
              "    <tr>\n",
              "      <th>18</th>\n",
              "      <td>156.140</td>\n",
              "      <td>156.230</td>\n",
              "      <td>156.394</td>\n",
              "      <td>156.204</td>\n",
              "      <td>2021-11-01 15:00:00</td>\n",
              "      <td>155.765</td>\n",
              "      <td>2</td>\n",
              "    </tr>\n",
              "    <tr>\n",
              "      <th>19</th>\n",
              "      <td>155.958</td>\n",
              "      <td>156.207</td>\n",
              "      <td>156.210</td>\n",
              "      <td>155.972</td>\n",
              "      <td>2021-11-01 16:00:00</td>\n",
              "      <td>155.795</td>\n",
              "      <td>0</td>\n",
              "    </tr>\n",
              "  </tbody>\n",
              "</table>\n",
              "</div>\n",
              "      <button class=\"colab-df-convert\" onclick=\"convertToInteractive('df-edad0215-dc3a-41ee-85ae-e7b0d8144c3b')\"\n",
              "              title=\"Convert this dataframe to an interactive table.\"\n",
              "              style=\"display:none;\">\n",
              "        \n",
              "  <svg xmlns=\"http://www.w3.org/2000/svg\" height=\"24px\"viewBox=\"0 0 24 24\"\n",
              "       width=\"24px\">\n",
              "    <path d=\"M0 0h24v24H0V0z\" fill=\"none\"/>\n",
              "    <path d=\"M18.56 5.44l.94 2.06.94-2.06 2.06-.94-2.06-.94-.94-2.06-.94 2.06-2.06.94zm-11 1L8.5 8.5l.94-2.06 2.06-.94-2.06-.94L8.5 2.5l-.94 2.06-2.06.94zm10 10l.94 2.06.94-2.06 2.06-.94-2.06-.94-.94-2.06-.94 2.06-2.06.94z\"/><path d=\"M17.41 7.96l-1.37-1.37c-.4-.4-.92-.59-1.43-.59-.52 0-1.04.2-1.43.59L10.3 9.45l-7.72 7.72c-.78.78-.78 2.05 0 2.83L4 21.41c.39.39.9.59 1.41.59.51 0 1.02-.2 1.41-.59l7.78-7.78 2.81-2.81c.8-.78.8-2.07 0-2.86zM5.41 20L4 18.59l7.72-7.72 1.47 1.35L5.41 20z\"/>\n",
              "  </svg>\n",
              "      </button>\n",
              "      \n",
              "  <style>\n",
              "    .colab-df-container {\n",
              "      display:flex;\n",
              "      flex-wrap:wrap;\n",
              "      gap: 12px;\n",
              "    }\n",
              "\n",
              "    .colab-df-convert {\n",
              "      background-color: #E8F0FE;\n",
              "      border: none;\n",
              "      border-radius: 50%;\n",
              "      cursor: pointer;\n",
              "      display: none;\n",
              "      fill: #1967D2;\n",
              "      height: 32px;\n",
              "      padding: 0 0 0 0;\n",
              "      width: 32px;\n",
              "    }\n",
              "\n",
              "    .colab-df-convert:hover {\n",
              "      background-color: #E2EBFA;\n",
              "      box-shadow: 0px 1px 2px rgba(60, 64, 67, 0.3), 0px 1px 3px 1px rgba(60, 64, 67, 0.15);\n",
              "      fill: #174EA6;\n",
              "    }\n",
              "\n",
              "    [theme=dark] .colab-df-convert {\n",
              "      background-color: #3B4455;\n",
              "      fill: #D2E3FC;\n",
              "    }\n",
              "\n",
              "    [theme=dark] .colab-df-convert:hover {\n",
              "      background-color: #434B5C;\n",
              "      box-shadow: 0px 1px 3px 1px rgba(0, 0, 0, 0.15);\n",
              "      filter: drop-shadow(0px 1px 2px rgba(0, 0, 0, 0.3));\n",
              "      fill: #FFFFFF;\n",
              "    }\n",
              "  </style>\n",
              "\n",
              "      <script>\n",
              "        const buttonEl =\n",
              "          document.querySelector('#df-edad0215-dc3a-41ee-85ae-e7b0d8144c3b button.colab-df-convert');\n",
              "        buttonEl.style.display =\n",
              "          google.colab.kernel.accessAllowed ? 'block' : 'none';\n",
              "\n",
              "        async function convertToInteractive(key) {\n",
              "          const element = document.querySelector('#df-edad0215-dc3a-41ee-85ae-e7b0d8144c3b');\n",
              "          const dataTable =\n",
              "            await google.colab.kernel.invokeFunction('convertToInteractive',\n",
              "                                                     [key], {});\n",
              "          if (!dataTable) return;\n",
              "\n",
              "          const docLinkHtml = 'Like what you see? Visit the ' +\n",
              "            '<a target=\"_blank\" href=https://colab.research.google.com/notebooks/data_table.ipynb>data table notebook</a>'\n",
              "            + ' to learn more about interactive tables.';\n",
              "          element.innerHTML = '';\n",
              "          dataTable['output_type'] = 'display_data';\n",
              "          await google.colab.output.renderOutput(dataTable, element);\n",
              "          const docLink = document.createElement('div');\n",
              "          docLink.innerHTML = docLinkHtml;\n",
              "          element.appendChild(docLink);\n",
              "        }\n",
              "      </script>\n",
              "    </div>\n",
              "  </div>\n",
              "  "
            ]
          },
          "metadata": {},
          "execution_count": 14
        }
      ]
    },
    {
      "cell_type": "markdown",
      "source": [
        "## 3-2. 画像の描画準備"
      ],
      "metadata": {
        "id": "o9QbCtTssAXN"
      }
    },
    {
      "cell_type": "code",
      "source": [
        "# mplfinance使うときは、indexがDatetimeIndex型でなければならない\n",
        "df_candles = df_candles.set_index('time')"
      ],
      "metadata": {
        "id": "nWc--1_JwzOa"
      },
      "execution_count": 15,
      "outputs": []
    },
    {
      "cell_type": "markdown",
      "source": [
        "## 3-3. お試し描画"
      ],
      "metadata": {
        "id": "lHqd4ve9vgp7"
      }
    },
    {
      "cell_type": "code",
      "source": [
        "# 素のまま描画\n",
        "mpf.plot(df_candles, type='candle')"
      ],
      "metadata": {
        "colab": {
          "base_uri": "https://localhost:8080/",
          "height": 789
        },
        "id": "06eplpYFoAla",
        "outputId": "7acfd649-0201-4921-e78c-2bc9691ab735"
      },
      "execution_count": 16,
      "outputs": [
        {
          "output_type": "stream",
          "name": "stderr",
          "text": [
            "/usr/local/lib/python3.7/dist-packages/mplfinance/_arg_validators.py:46: UserWarning: \n",
            "\n",
            " ================================================================= \n",
            "\n",
            "   WARNING: YOU ARE PLOTTING SO MUCH DATA THAT IT MAY NOT BE\n",
            "            POSSIBLE TO SEE DETAILS (Candles, Ohlc-Bars, Etc.)\n",
            "   For more information see:\n",
            "   - https://github.com/matplotlib/mplfinance/wiki/Plotting-Too-Much-Data\n",
            "   \n",
            "   TO SILENCE THIS WARNING, set `type='line'` in `mpf.plot()`\n",
            "   OR set kwarg `warn_too_much_data=N` where N is an integer \n",
            "   LARGER than the number of data points you want to plot.\n",
            "\n",
            " ================================================================ \n",
            "  category=UserWarning)\n"
          ]
        },
        {
          "output_type": "display_data",
          "data": {
            "text/plain": [
              "<Figure size 800x575 with 2 Axes>"
            ],
            "image/png": "[encoded data removed]"
          },
          "metadata": {}
        }
      ]
    },
    {
      "cell_type": "markdown",
      "source": [
        "## 3-4. 実践的な描画"
      ],
      "metadata": {
        "id": "UVhROyCNr8Bz"
      }
    },
    {
      "cell_type": "code",
      "source": [
        "# 表示する量を削ってみる\n",
        "df = df_candles[0:100]\n",
        "\n",
        "# 描画方法の設定\n",
        "marketcolors = mpf.make_marketcolors(\n",
        "    up=\"#DF0101\", down=\"#00008b\", edge=\"inherit\", wick=\"inherit\"\n",
        ")\n",
        "chart_style = mpf.make_mpf_style(\n",
        "    marketcolors=marketcolors,\n",
        "    gridcolor=\"#778899\",\n",
        "    y_on_right=True,\n",
        "    rc={\"xtick.labelsize\":8, \"ytick.labelsize\":8}\n",
        ")\n",
        "\n",
        "# 描画開始\n",
        "mpf.plot(\n",
        "    # 表示するもの\n",
        "    df,           # ローソク足\n",
        "    mav=(5, 10),  # 移動平均線 (moving average)\n",
        "\n",
        "    # 表示方法\n",
        "    type='candle', datetime_format='%Y/%m/%d',\n",
        "    figsize=(9,5), style=chart_style, width_adjuster_version='v1',\n",
        "    xrotation=False, ylabel='', ylabel_lower=''\n",
        ")\n",
        "\n",
        "# 参考にした記事\n",
        "# https://chimesness.com/post-397/\n",
        "# https://chimesness.com/post-448/"
      ],
      "metadata": {
        "colab": {
          "base_uri": "https://localhost:8080/",
          "height": 406
        },
        "id": "DIuQ3v5Uo5YG",
        "outputId": "c1f39cbb-5161-41c6-ec1f-ff3beb52131d"
      },
      "execution_count": null,
      "outputs": [
        {
          "output_type": "display_data",
          "data": {
            "text/plain": [
              "<Figure size 900x500 with 2 Axes>"
            ],
            "image/png": "[encoded data removed]"
          },
          "metadata": {}
        }
      ]
    },
    {
      "cell_type": "markdown",
      "source": [
        "## 3-5. 学習用画像の描画（ボツ）"
      ],
      "metadata": {
        "id": "O8QVytEJxtxD"
      }
    },
    {
      "cell_type": "code",
      "source": [
        "# 表示する量を削ってみる\n",
        "df = df_candles[0:100]\n",
        "\n",
        "# 描画方法の設定\n",
        "marketcolors = mpf.make_marketcolors(\n",
        "    up='#77d879', down='#db3f3f',\n",
        "    edge=\"inherit\", wick=\"inherit\"\n",
        ")\n",
        "chart_style = mpf.make_mpf_style(\n",
        "    marketcolors=marketcolors,\n",
        "    gridstyle='None',\n",
        "    facecolor='#1f1f1f',\n",
        "    rc={\n",
        "        \"xtick.labelsize\": 0, \"ytick.labelsize\": 0,\n",
        "        # 'axes.yticklabels': False, 'axes.xticklabels': False,\n",
        "        'axes.xmargin': 0.02,\n",
        "        'axes.ymargin': 0.02,\n",
        "    }\n",
        ")\n",
        "\n",
        "\n",
        "# 描画開始\n",
        "mpf.plot(\n",
        "    # 表示するもの\n",
        "    df,           # ローソク足\n",
        "    mav=(5, 10),  # 移動平均線 (moving average)\n",
        "\n",
        "    # 表示方法\n",
        "    type='candle', datetime_format='',\n",
        "    figsize=(5, 5), style=chart_style, width_adjuster_version='v1',\n",
        "    xrotation=False, ylabel='', ylabel_lower='', scale_padding={'left': 0, 'top': 0, 'right': 0, 'bottom': 0}\n",
        ")\n",
        "\n",
        "# 参考にした記事\n",
        "# https://chimesness.com/post-397/\n",
        "# https://chimesness.com/post-448/"
      ],
      "metadata": {
        "id": "gE_3Zj5MxtF2",
        "colab": {
          "base_uri": "https://localhost:8080/",
          "height": 541
        },
        "outputId": "a08078f9-35e9-419d-bd2c-d0433cd2485e"
      },
      "execution_count": 17,
      "outputs": [
        {
          "output_type": "display_data",
          "data": {
            "text/plain": [
              "<Figure size 500x500 with 2 Axes>"
            ],
            "image/png": "[encoded data removed]"
          },
          "metadata": {}
        }
      ]
    },
    {
      "cell_type": "markdown",
      "source": [
        "## 3-6. 学習用画像（気を取り直して）\n",
        "\n",
        "新mplfinanceでは、4方の余白を削るのが難しそうなので、original_fravourに変更"
      ],
      "metadata": {
        "id": "ANMwUMHnCq4o"
      }
    },
    {
      "cell_type": "code",
      "source": [
        "def init_figure() -> plt.Figure:\n",
        "    \"\"\"\n",
        "    初期設定\n",
        "    \"\"\"\n",
        "    # 余白\n",
        "    plt.rcParams['axes.xmargin'] = 0.05\n",
        "    plt.rcParams['axes.ymargin'] = 0.05\n",
        "    # 画像サイズ、解像度(値が大きいと画像データが大きくなり、処理時間が増える)\n",
        "    fig: plt.Figure = plt.figure(figsize=(3, 3), dpi=64)\n",
        "    # 背景色\n",
        "    fig.patch.set_facecolor('black')\n",
        "    return fig\n",
        "\n",
        "\n",
        "def eliminate_unnecessities(ax1: plt.Axes) -> None:\n",
        "    \"\"\"\n",
        "    余計なものを全部消す\n",
        "    （文字やグリッド線、余白など）\n",
        "    \"\"\"\n",
        "    ax1.grid(False)\n",
        "    ax1.set_xticklabels([])\n",
        "    ax1.set_yticklabels([])\n",
        "    ax1.xaxis.set_visible(False)\n",
        "    ax1.yaxis.set_visible(False)\n",
        "    ax1.axis('off')\n",
        "\n",
        "\n",
        "def draw_candles(ax1: plt.Axes, df: pd.DataFrame) -> None:\n",
        "    \"\"\"\n",
        "    ローソク足を描画\n",
        "    \"\"\"\n",
        "    original_mpf.candlestick2_ohlc(\n",
        "        ax1,\n",
        "        df['open'], df['high'], df['low'], df['close'],\n",
        "        width=0.5,  # ローソク足1本の太さ\n",
        "        colorup='#77d879', colordown='#db3f3f'  # 色\n",
        "    )\n",
        "\n",
        "\n",
        "def save_chart(fig: plt.Figure, dir_name: str, index: int) -> None:\n",
        "    os.makedirs(dir_name, exist_ok=True)\n",
        "\n",
        "    filename: str = f'{dir_name}/sample_{index}.png'\n",
        "    plt.subplots_adjust(left=0.0, bottom=0.0, right=1.05, top=1.0)\n",
        "    fig.savefig(\n",
        "        filename, pad_inches=0,\n",
        "        facecolor=fig.get_facecolor(), transparent=False\n",
        "    )\n",
        "\n",
        "\n",
        "def make_image(df: pd.DataFrame, i: int) -> None:\n",
        "    # チャート画像の入れ物（インスタンス）を初期化\n",
        "    fig: plt.Figure = init_figure()\n",
        "\n",
        "    # イメージ描画先を1枚作成\n",
        "    ax1: plt.Axes = fig.add_subplot(1, 1, 1)\n",
        "\n",
        "    # 文字やグリッド線、余白などを消す\n",
        "    eliminate_unnecessities(ax1)\n",
        "\n",
        "    # ローソク足を描画\n",
        "    draw_candles(ax1, df)\n",
        "\n",
        "    # 画像をpngファイルとして保存\n",
        "    dir_name = 'chart_pngs'\n",
        "    # filename: str = 'dataset/{}_{}/{}/{}/{}-{}.png'.format(\n",
        "    #     seq_len, dimension, symbol, dataset_type, fname[11:-4], i\n",
        "    # )\n",
        "    save_chart(fig, dir_name, i)\n",
        "\n",
        "    plt.close(fig)\n",
        "\n",
        "\n",
        "# 参考資料\n",
        "# - https://github.com/rosdyana/Going-Deeper-with-Convolutional-Neural-Network-for-Stock-Market-Prediction/blob/a59152477f46e673a244c0f9b5340c272504024a/preproccess_binclass.py#L145-L200\n",
        "# - https://stackoverflow.com/questions/4804005/matplotlib-figure-facecolor-background-color\n"
      ],
      "metadata": {
        "id": "7tTU_BjyCOqi"
      },
      "execution_count": 18,
      "outputs": []
    },
    {
      "cell_type": "code",
      "source": [
        "period_in_one_image: int = 30\n",
        "num_images: int = len(df_candles) - period_in_one_image\n",
        "# num_images: int = 50 - period_in_one_image\n",
        "\n",
        "for i in tqdm(range(num_images)):\n",
        "    df: pd.DataFrame = df_candles[i : i + period_in_one_image]\n",
        "    make_image(df, i)\n"
      ],
      "metadata": {
        "colab": {
          "base_uri": "https://localhost:8080/"
        },
        "id": "rO_suSpeLBXv",
        "outputId": "f42c550c-a87e-4518-8f4d-8d6bca2d019f"
      },
      "execution_count": 21,
      "outputs": [
        {
          "output_type": "stream",
          "name": "stderr",
          "text": [
            "100%|██████████| 3833/3833 [03:22<00:00, 18.90it/s]\n"
          ]
        }
      ]
    },
    {
      "cell_type": "code",
      "source": [
        "! zip chart_pngs.zip /content/chart_pngs/*"
      ],
      "metadata": {
        "id": "66QiyLMu8WAI"
      },
      "execution_count": null,
      "outputs": []
    },
    {
      "cell_type": "code",
      "source": [
        "img = plt.imread('./chart_pngs/sample_10.png')\n",
        "plt.imshow(img)"
      ],
      "metadata": {
        "colab": {
          "base_uri": "https://localhost:8080/",
          "height": 434
        },
        "id": "Cd2jzC4Owpuh",
        "outputId": "5e793542-8faa-457d-9b7e-b97680dd6e54"
      },
      "execution_count": 20,
      "outputs": [
        {
          "output_type": "execute_result",
          "data": {
            "text/plain": [
              "<matplotlib.image.AxesImage at 0x7efc2209cf50>"
            ]
          },
          "metadata": {},
          "execution_count": 20
        },
        {
          "output_type": "display_data",
          "data": {
            "text/plain": [
              "<Figure size 640x480 with 1 Axes>"
            ],
            "image/png": "[encoded data removed]"
          },
          "metadata": {}
        }
      ]
    },
    {
      "cell_type": "markdown",
      "source": [
        "## 3-7. 学習用画像に移動平均線とボリンジャーバンドを追加"
      ],
      "metadata": {
        "id": "IAYQs79NyMn3"
      }
    },
    {
      "cell_type": "code",
      "source": [
        "# 未対応"
      ],
      "metadata": {
        "id": "MWLO-XlGyLL9"
      },
      "execution_count": 25,
      "outputs": []
    },
    {
      "cell_type": "markdown",
      "source": [
        "# X. リサンプリング\n",
        "\n",
        "以下のように、日足（1時間で1本だったローソク足を1日1本にまとめたもの）にすれば、データが欠損している日を容易に特定できる\n",
        "\n",
        "見てみると、土日祝日は基本的に欠損している\n",
        "これは為替市場がお休みだからである"
      ],
      "metadata": {
        "id": "wLrQX2Xrs0QT"
      }
    },
    {
      "cell_type": "code",
      "source": [
        "pd.set_option('display.max_rows', 400)\n",
        "df_candles.resample('D').agg(\n",
        "    {\n",
        "        'open': 'first',\n",
        "        'high': 'max',\n",
        "        'low': 'min',\n",
        "        'close': 'last'\n",
        "    }\n",
        ")\n",
        "\n",
        "# 参考にした記事\n",
        "# https://qiita.com/u1and0/items/8e7bcaaf3668ed2afee1"
      ],
      "metadata": {
        "id": "Okt7BoJkpcZB"
      },
      "execution_count": null,
      "outputs": []
    },
    {
      "cell_type": "code",
      "source": [
        "# いちいち何百列もデータフレームが表示されると邪魔なので、設定を元に戻しておく\n",
        "pd.set_option('display.max_rows', 10)"
      ],
      "metadata": {
        "id": "6ry_dANauFol"
      },
      "execution_count": null,
      "outputs": []
    },
    {
      "cell_type": "markdown",
      "source": [
        "# X. 発展資料\n",
        "\n",
        "- 3つ目以降のグラフを表示させる方法  \n",
        "http://hachisue.blog65.fc2.com/blog-entry-467.html"
      ],
      "metadata": {
        "id": "ELXiWHAYwML_"
      }
    }
  ]
}